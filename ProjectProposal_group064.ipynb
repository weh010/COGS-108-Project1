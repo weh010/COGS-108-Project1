{
 "cells": [
  {
   "cell_type": "markdown",
   "metadata": {},
   "source": [
    "# COGS 108 - Final Project Proposal"
   ]
  },
  {
   "cell_type": "markdown",
   "metadata": {},
   "source": [
    "# Names\n",
    "\n",
    "- Weijie Huang\n",
    "- Jianzhang Chen\n",
    "- Audrey Yeh\n",
    "- Liu He"
   ]
  },
  {
   "cell_type": "markdown",
   "metadata": {},
   "source": [
    "# Research Question"
   ]
  },
  {
   "cell_type": "markdown",
   "metadata": {},
   "source": [
    "Has the automotive market boosted the U.S. automotive manufacturing and retail trade employment since 1990?"
   ]
  },
  {
   "cell_type": "markdown",
   "metadata": {},
   "source": [
    "## Background and Prior Work"
   ]
  },
  {
   "cell_type": "markdown",
   "metadata": {},
   "source": [
    "As we know, the automobile industry in the United States has a long and brilliant history. Cars are not only an inseparable tool for us but also an essential part of the American economy. However, the sudden arrival of covid-19 in 2020 has hit the auto industry deeply. Now, In the post-pandemic era, the auto industry has begun to recover, and auto sales increased suddenly. However, according to BLS statistics, auto-related employment did not grow as explosively as auto sales. Is this due to covid-19? Or is auto sales have no apparent relationship to automobile Industry employment?\n",
    "To figure out our answer, we will retrieve employment data related to the auto industry and auto sales data since the 1990s and analyze whether the growth and decline of each data are associated with each other.\n",
    "\n",
    "References:\n",
    "1) https://www.bls.gov/iag/tgs/iagauto.htm\n",
    "\n",
    "2) https://www.mckinsey.com/industries/automotive-and-assembly/our-insights/how-the-automotive-industry-is-accelerating-out-of-the-turn\n",
    "\n"
   ]
  },
  {
   "cell_type": "markdown",
   "metadata": {},
   "source": [
    "# Hypothesis\n"
   ]
  },
  {
   "cell_type": "markdown",
   "metadata": {},
   "source": [
    "We believe that the rising of the auto market boosted the labor market. Hence, we hypothesize that employment related to automobile manufacturing and retail has risen as the increment in vehicle sales from 1990 to 2022."
   ]
  },
  {
   "cell_type": "markdown",
   "metadata": {},
   "source": [
    "# Data"
   ]
  },
  {
   "cell_type": "markdown",
   "metadata": {},
   "source": [
    "Our variable is to compare the general trend of used car prices over the last 10 years. Data will be stored in dataframe and analyzed using bar graph. The obseravations is that we want to observe the price trend according to the same model of cars but different years and different allocations."
   ]
  },
  {
   "cell_type": "markdown",
   "metadata": {},
   "source": [
    "# Ethics & Privacy"
   ]
  },
  {
   "cell_type": "markdown",
   "metadata": {},
   "source": [
    "Part of the data can involve consumer privacy. For example, some people want to get their car as soon as possible and voluntarily increase the price, but they don't want to be known. Therefore, in the process of analyzing the data, we will not involve any personal privacy. Because we use data from the market rather than each consumer's data."
   ]
  },
  {
   "cell_type": "markdown",
   "metadata": {},
   "source": [
    "# Team Expectations "
   ]
  },
  {
   "cell_type": "markdown",
   "metadata": {},
   "source": [
    "1. Meet together each week to report the process.\n",
    "2. Everyone in our group is reachable.\n",
    "3. We all agree on our solution, such as finding data, project subject, etc.\n",
    "4. Each team member respects each other. \n",
    "5. Everyone try their best to do our project."
   ]
  },
  {
   "cell_type": "markdown",
   "metadata": {},
   "source": [
    "# Project Timeline Proposal"
   ]
  },
  {
   "cell_type": "markdown",
   "metadata": {},
   "source": [
    "| Meeting Date  | Meeting Time| Completed Before Meeting  | Discuss at Meeting |\n",
    "|---|---|---|---|\n",
    "| 4/22  |  7 PM | Read & Think about COGS 108 expectations; brainstorm topics/questions  | Determine best form of communication; Discuss and decide on final project topic; discuss hypothesis; begin background research | \n",
    "| 4/29  |  7 AM |  Do background research on topic | Discuss ideal dataset(s) and ethics; draft project proposal | \n",
    "| 05/06  | 7 AM  | Edit, finalize, and submit proposal; Search for datasets  | Discuss Wrangling and possible analytical approaches; Assign group members to lead each specific part   |\n",
    "| 05/13  | 7 PM  | Import & Wrangle Data(TBD) | Review/Edit wrangling/EDA; Discuss Analysis Plan   |\n",
    "| 05/20  | 7 PM  | Finalize wrangling/EDA; Begin Analysis (TBD) | Discuss/edit Analysis; Complete project check-in |\n",
    "| 05/27  | 7 PM  | Complete analysis; Draft results/conclusion/discussion (TBD)| Discuss/edit full project |\n",
    "| 006/06  | Before 11:59 PM  | NA | Turn in Final Project & Group Project Surveys |"
   ]
  },
  {
   "cell_type": "code",
   "execution_count": null,
   "metadata": {},
   "outputs": [],
   "source": []
  }
 ],
 "metadata": {
  "kernelspec": {
   "display_name": "Python 3 (ipykernel)",
   "language": "python",
   "name": "python3"
  },
  "language_info": {
   "codemirror_mode": {
    "name": "ipython",
    "version": 3
   },
   "file_extension": ".py",
   "mimetype": "text/x-python",
   "name": "python",
   "nbconvert_exporter": "python",
   "pygments_lexer": "ipython3",
   "version": "3.9.12"
  }
 },
 "nbformat": 4,
 "nbformat_minor": 2
}
